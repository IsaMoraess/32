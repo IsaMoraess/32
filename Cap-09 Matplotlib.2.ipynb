{
 "cells": [
  {
   "cell_type": "markdown",
   "id": "c29ef412",
   "metadata": {},
   "source": [
    "# Grafico de Barra\n",
    "\n",
    "E um tipo de plotagem usada para representar dados categoricos com barras retangulares. Cada barra representa uma categoria e a altura da barra representa a quantidade ou frequencia categorica.\n",
    "\n",
    "O eixo horizontal do grafico de barras mostra as categorias e o eixo vertical mostra a escala de medida dos dados. As barras podem ser vertical ou  horizontal, depedendo da preferencia do usuario."
   ]
  },
  {
   "cell_type": "code",
   "execution_count": null,
   "id": "02f6574e",
   "metadata": {},
   "outputs": [],
   "source": [
    "x1 = [2,4,6,8,10]\n",
    "y1 = [6,7,8,2,4]"
   ]
  },
  {
   "cell_type": "code",
   "execution_count": null,
   "id": "64863d35",
   "metadata": {},
   "outputs": [],
   "source": [
    "plt.bar(x1, y1, label = 'Barras', color ='green')\n",
    "plt.legend()\n",
    "plt.show()"
   ]
  },
  {
   "cell_type": "code",
   "execution_count": null,
   "id": "dfcccb60",
   "metadata": {},
   "outputs": [],
   "source": [
    "x2 = [1,3,5,7,9]\n",
    "y2 = [7,8,2,4,2]"
   ]
  },
  {
   "cell_type": "code",
   "execution_count": null,
   "id": "340c725b",
   "metadata": {},
   "outputs": [],
   "source": [
    "plt.bar(x1, y1, label = 'Listas1', color ='blue')\n",
    "plt.bar(x2, y2, label = 'Listas2', color ='red')\n",
    "plt.legend()\n",
    "plt.show()"
   ]
  },
  {
   "cell_type": "code",
   "execution_count": null,
   "id": "6b607f94",
   "metadata": {},
   "outputs": [],
   "source": [
    "idades = [22,65,45,55,21,22,34,42,41,4,99,101,120,122,130,111,115,80,75,54,44,64,15,18,48]"
   ]
  },
  {
   "cell_type": "code",
   "execution_count": null,
   "id": "691e69b3",
   "metadata": {},
   "outputs": [],
   "source": [
    "ids = [x for x in range(len(idades))]"
   ]
  },
  {
   "cell_type": "code",
   "execution_count": null,
   "id": "a742b969",
   "metadata": {},
   "outputs": [],
   "source": [
    "print(ids)"
   ]
  },
  {
   "cell_type": "code",
   "execution_count": null,
   "id": "2bd56d71",
   "metadata": {},
   "outputs": [],
   "source": [
    "plt.bar(ids, idades)\n",
    "plt.show()"
   ]
  },
  {
   "cell_type": "code",
   "execution_count": null,
   "id": "4a6fd3f7",
   "metadata": {},
   "outputs": [],
   "source": [
    "bins = [0,10,20,30,40,50,60,70,80,90,100,110,120,130]"
   ]
  },
  {
   "cell_type": "code",
   "execution_count": null,
   "id": "2c40cd63",
   "metadata": {},
   "outputs": [],
   "source": [
    "plt.hist(idades, bins, histtype = 'bar', rwidth = 0.8)\n",
    "plt.show()"
   ]
  },
  {
   "cell_type": "code",
   "execution_count": null,
   "id": "a6d2a263",
   "metadata": {},
   "outputs": [],
   "source": [
    "plt.hist(idades, bins, histtype = 'stepfilled', rwidth = 0.8)\n",
    "plt.show()"
   ]
  }
 ],
 "metadata": {
  "kernelspec": {
   "display_name": "Python 3 (ipykernel)",
   "language": "python",
   "name": "python3"
  },
  "language_info": {
   "codemirror_mode": {
    "name": "ipython",
    "version": 3
   },
   "file_extension": ".py",
   "mimetype": "text/x-python",
   "name": "python",
   "nbconvert_exporter": "python",
   "pygments_lexer": "ipython3",
   "version": "3.9.13"
  }
 },
 "nbformat": 4,
 "nbformat_minor": 5
}
